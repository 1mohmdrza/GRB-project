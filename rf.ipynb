{
 "cells": [
  {
   "cell_type": "code",
   "execution_count": 22,
   "metadata": {},
   "outputs": [],
   "source": [
    "import numpy as np\n",
    "import pandas as pd\n",
    "from sklearn.model_selection import train_test_split\n",
    "from sklearn.ensemble import RandomForestRegressor\n",
    "from sklearn.metrics import mean_squared_error\n",
    "from sklearn.datasets import make_regression"
   ]
  },
  {
   "cell_type": "code",
   "execution_count": 29,
   "metadata": {},
   "outputs": [
    {
     "name": "stdout",
     "output_type": "stream",
     "text": [
      "<class 'pandas.core.frame.DataFrame'>\n",
      "RangeIndex: 368 entries, 0 to 367\n",
      "Data columns (total 8 columns):\n",
      " #   Column                      Non-Null Count  Dtype  \n",
      "---  ------                      --------------  -----  \n",
      " 0   GRB                         368 non-null    object \n",
      " 1   BAT RA (J2000)              368 non-null    float64\n",
      " 2   BAT Dec (J2000)             368 non-null    float64\n",
      " 3   XRT Spectral Index (Gamma)  368 non-null    float64\n",
      " 4   XRT Column Density (NH)     368 non-null    float64\n",
      " 5   BAT Fluence                 368 non-null    float64\n",
      " 6   BAT T90                     368 non-null    float64\n",
      " 7   Redshift                    368 non-null    float64\n",
      "dtypes: float64(7), object(1)\n",
      "memory usage: 23.1+ KB\n"
     ]
    }
   ],
   "source": [
    "data = pd.read_excel(\"C:\\\\Users\\\\mohammad\\\\Downloads\\\\GRB_Final_Document.xlsx\")\n",
    "data.info()"
   ]
  },
  {
   "cell_type": "code",
   "execution_count": 31,
   "metadata": {},
   "outputs": [
    {
     "name": "stdout",
     "output_type": "stream",
     "text": [
      "<class 'pandas.core.frame.DataFrame'>\n",
      "RangeIndex: 368 entries, 0 to 367\n",
      "Data columns (total 5 columns):\n",
      " #   Column                      Non-Null Count  Dtype  \n",
      "---  ------                      --------------  -----  \n",
      " 0   XRT Spectral Index (Gamma)  368 non-null    float64\n",
      " 1   XRT Column Density (NH)     368 non-null    float64\n",
      " 2   BAT Fluence                 368 non-null    float64\n",
      " 3   BAT T90                     368 non-null    float64\n",
      " 4   Redshift                    368 non-null    float64\n",
      "dtypes: float64(5)\n",
      "memory usage: 14.5 KB\n"
     ]
    }
   ],
   "source": [
    "df = data.iloc[:, 3:8]\n",
    "df.info()"
   ]
  },
  {
   "cell_type": "code",
   "execution_count": 32,
   "metadata": {},
   "outputs": [],
   "source": [
    "x= df.iloc[:, 0:4]\n",
    "y= df.iloc[:,-1]\n"
   ]
  },
  {
   "cell_type": "code",
   "execution_count": 33,
   "metadata": {},
   "outputs": [
    {
     "name": "stdout",
     "output_type": "stream",
     "text": [
      "Cross-validation scores: [ 0.34230015 -0.28004521  0.25781039  0.24045715 -0.25662568  0.40361113\n",
      " -0.03796135 -0.03418167  0.27059753  0.14017728]\n"
     ]
    }
   ],
   "source": [
    "#Dividing the data into two parts, training and testing\n",
    "x_train, x_test , y_train , y_test = train_test_split(x, y, test_size=0.3, random_state=42)\n",
    "x_test , x_validation , y_test , y_validation = train_test_split(x_test , y_test , test_size = 0.2 , random_state= 42)\n",
    "np.random.seed(18)\n",
    "\n",
    "rf_model = RandomForestRegressor()\n",
    "rf_model.fit(x_train, y_train)\n",
    "\n",
    "\n",
    "from sklearn.model_selection import train_test_split, cross_val_score\n",
    "cv_scores = cross_val_score(rf_model, x_train, y_train, cv=10)\n",
    "print('Cross-validation scores:', cv_scores)\n"
   ]
  },
  {
   "cell_type": "code",
   "execution_count": 35,
   "metadata": {},
   "outputs": [],
   "source": [
    "y_pred = rf_model.predict(x_test)"
   ]
  },
  {
   "cell_type": "code",
   "execution_count": 36,
   "metadata": {},
   "outputs": [
    {
     "name": "stdout",
     "output_type": "stream",
     "text": [
      "R^2 train Score: 0.8791263576793689\n",
      "R^2 test Score: 0.22580736764375087\n",
      "Mean Squared Error: 1.4475514597773187\n",
      "Root Mean Squared Error: 1.2031423273151514\n",
      "Mean Absolute Error: 0.9793856363636365\n"
     ]
    }
   ],
   "source": [
    "\n",
    "from sklearn.metrics import mean_absolute_error, mean_squared_error, r2_score\n",
    "mse = mean_squared_error(y_test, y_pred)\n",
    "rmse = np.sqrt(mse)\n",
    "mae = mean_absolute_error(y_test, y_pred)\n",
    "r2_test = r2_score(y_test, y_pred)\n",
    "\n",
    "rf_model.fit(x_train, y_train)\n",
    "y_pred_train = rf_model.predict(x_train)\n",
    "r2_train = r2_score(y_train, y_pred_train)\n",
    "\n",
    "print(\"R^2 train Score:\", r2_train)\n",
    "print(\"R^2 test Score:\", r2_test)\n",
    "print(\"Mean Squared Error:\", mse)\n",
    "print(\"Root Mean Squared Error:\", rmse)\n",
    "print(\"Mean Absolute Error:\", mae)\n",
    "\n"
   ]
  }
 ],
 "metadata": {
  "kernelspec": {
   "display_name": "Python 3",
   "language": "python",
   "name": "python3"
  },
  "language_info": {
   "codemirror_mode": {
    "name": "ipython",
    "version": 3
   },
   "file_extension": ".py",
   "mimetype": "text/x-python",
   "name": "python",
   "nbconvert_exporter": "python",
   "pygments_lexer": "ipython3",
   "version": "3.11.4"
  }
 },
 "nbformat": 4,
 "nbformat_minor": 2
}
