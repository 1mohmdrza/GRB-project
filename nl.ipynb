{
 "cells": [
  {
   "cell_type": "code",
   "execution_count": 14,
   "metadata": {},
   "outputs": [],
   "source": [
    "import numpy as np\n",
    "import pandas as pd\n",
    "import numpy as numpy\n",
    "from sklearn.model_selection import train_test_split\n",
    "from sklearn.preprocessing import StandardScaler\n",
    "from sklearn.metrics import mean_squared_error\n",
    "import tensorflow as tf\n",
    "from tensorflow.keras.models import Sequential\n",
    "from tensorflow.keras.layers import Dense, Dropout\n",
    "from tensorflow.keras import regularizers"
   ]
  },
  {
   "cell_type": "code",
   "execution_count": 72,
   "metadata": {},
   "outputs": [
    {
     "name": "stdout",
     "output_type": "stream",
     "text": [
      "<class 'pandas.core.frame.DataFrame'>\n",
      "RangeIndex: 368 entries, 0 to 367\n",
      "Data columns (total 8 columns):\n",
      " #   Column                      Non-Null Count  Dtype  \n",
      "---  ------                      --------------  -----  \n",
      " 0   GRB                         368 non-null    object \n",
      " 1   BAT RA (J2000)              368 non-null    float64\n",
      " 2   BAT Dec (J2000)             368 non-null    float64\n",
      " 3   XRT Spectral Index (Gamma)  368 non-null    float64\n",
      " 4   XRT Column Density (NH)     368 non-null    float64\n",
      " 5   BAT Fluence                 368 non-null    float64\n",
      " 6   BAT T90                     368 non-null    float64\n",
      " 7   Redshift                    368 non-null    float64\n",
      "dtypes: float64(7), object(1)\n",
      "memory usage: 23.1+ KB\n"
     ]
    }
   ],
   "source": [
    "data = pd.read_excel(\"C:\\\\Users\\\\mohammad\\\\Downloads\\\\GRB_Final_Document.xlsx\")\n",
    "data.info()"
   ]
  },
  {
   "cell_type": "code",
   "execution_count": 73,
   "metadata": {},
   "outputs": [
    {
     "name": "stdout",
     "output_type": "stream",
     "text": [
      "<class 'pandas.core.frame.DataFrame'>\n",
      "RangeIndex: 368 entries, 0 to 367\n",
      "Data columns (total 5 columns):\n",
      " #   Column                      Non-Null Count  Dtype  \n",
      "---  ------                      --------------  -----  \n",
      " 0   XRT Spectral Index (Gamma)  368 non-null    float64\n",
      " 1   XRT Column Density (NH)     368 non-null    float64\n",
      " 2   BAT Fluence                 368 non-null    float64\n",
      " 3   BAT T90                     368 non-null    float64\n",
      " 4   Redshift                    368 non-null    float64\n",
      "dtypes: float64(5)\n",
      "memory usage: 14.5 KB\n"
     ]
    }
   ],
   "source": [
    "df = data.iloc[:, 3:8]\n",
    "df.info()"
   ]
  },
  {
   "cell_type": "code",
   "execution_count": 74,
   "metadata": {},
   "outputs": [],
   "source": [
    "X= df.iloc[:, 0:4]\n",
    "y= df.iloc[:,-1]"
   ]
  },
  {
   "cell_type": "code",
   "execution_count": 75,
   "metadata": {},
   "outputs": [],
   "source": [
    "scaler = StandardScaler()\n",
    "X_scaled = scaler.fit_transform(X)"
   ]
  },
  {
   "cell_type": "code",
   "execution_count": 76,
   "metadata": {},
   "outputs": [],
   "source": [
    "x_train, x_test, y_train, y_test = train_test_split(X_scaled, y, test_size=0.2, random_state=42)\n",
    "np.random.seed(18)\n"
   ]
  },
  {
   "cell_type": "code",
   "execution_count": 77,
   "metadata": {},
   "outputs": [],
   "source": [
    "model = Sequential()\n",
    "model.add(Dense(64, input_dim=x_train.shape[1], activation='relu', kernel_regularizer=regularizers.l2(0.01)))\n",
    "model.add(Dropout(0.5))\n",
    "model.add(Dense(1, activation='linear'))"
   ]
  },
  {
   "cell_type": "code",
   "execution_count": 78,
   "metadata": {},
   "outputs": [],
   "source": [
    "model.compile(loss='mean_squared_error', optimizer='adam')\n"
   ]
  },
  {
   "cell_type": "code",
   "execution_count": 79,
   "metadata": {},
   "outputs": [
    {
     "name": "stdout",
     "output_type": "stream",
     "text": [
      "Epoch 1/100\n",
      "10/10 - 1s - loss: 5.5146 - val_loss: 4.0235 - 679ms/epoch - 68ms/step\n",
      "Epoch 2/100\n",
      "10/10 - 0s - loss: 4.6735 - val_loss: 3.6329 - 47ms/epoch - 5ms/step\n",
      "Epoch 3/100\n",
      "10/10 - 0s - loss: 4.4248 - val_loss: 3.2893 - 56ms/epoch - 6ms/step\n",
      "Epoch 4/100\n",
      "10/10 - 0s - loss: 3.9099 - val_loss: 3.0198 - 42ms/epoch - 4ms/step\n",
      "Epoch 5/100\n",
      "10/10 - 0s - loss: 3.6951 - val_loss: 2.8013 - 55ms/epoch - 5ms/step\n",
      "Epoch 6/100\n",
      "10/10 - 0s - loss: 3.4288 - val_loss: 2.6047 - 54ms/epoch - 5ms/step\n",
      "Epoch 7/100\n",
      "10/10 - 0s - loss: 3.1446 - val_loss: 2.4229 - 50ms/epoch - 5ms/step\n",
      "Epoch 8/100\n",
      "10/10 - 0s - loss: 2.8211 - val_loss: 2.2602 - 71ms/epoch - 7ms/step\n",
      "Epoch 9/100\n",
      "10/10 - 0s - loss: 2.7658 - val_loss: 2.1194 - 60ms/epoch - 6ms/step\n",
      "Epoch 10/100\n",
      "10/10 - 0s - loss: 2.9862 - val_loss: 2.0044 - 49ms/epoch - 5ms/step\n",
      "Epoch 11/100\n",
      "10/10 - 0s - loss: 2.3453 - val_loss: 1.9327 - 67ms/epoch - 7ms/step\n",
      "Epoch 12/100\n",
      "10/10 - 0s - loss: 2.4451 - val_loss: 1.8740 - 50ms/epoch - 5ms/step\n",
      "Epoch 13/100\n",
      "10/10 - 0s - loss: 2.1977 - val_loss: 1.8202 - 49ms/epoch - 5ms/step\n",
      "Epoch 14/100\n",
      "10/10 - 0s - loss: 2.1530 - val_loss: 1.7723 - 119ms/epoch - 12ms/step\n",
      "Epoch 15/100\n",
      "10/10 - 0s - loss: 2.5087 - val_loss: 1.7289 - 53ms/epoch - 5ms/step\n",
      "Epoch 16/100\n",
      "10/10 - 0s - loss: 2.1199 - val_loss: 1.7005 - 62ms/epoch - 6ms/step\n",
      "Epoch 17/100\n",
      "10/10 - 0s - loss: 2.0516 - val_loss: 1.6867 - 59ms/epoch - 6ms/step\n",
      "Epoch 18/100\n",
      "10/10 - 0s - loss: 1.9723 - val_loss: 1.6689 - 62ms/epoch - 6ms/step\n",
      "Epoch 19/100\n",
      "10/10 - 0s - loss: 1.9513 - val_loss: 1.6577 - 40ms/epoch - 4ms/step\n",
      "Epoch 20/100\n",
      "10/10 - 0s - loss: 1.8485 - val_loss: 1.6483 - 38ms/epoch - 4ms/step\n",
      "Epoch 21/100\n",
      "10/10 - 0s - loss: 2.0564 - val_loss: 1.6332 - 55ms/epoch - 5ms/step\n",
      "Epoch 22/100\n",
      "10/10 - 0s - loss: 1.9533 - val_loss: 1.6295 - 42ms/epoch - 4ms/step\n",
      "Epoch 23/100\n",
      "10/10 - 0s - loss: 1.9540 - val_loss: 1.6212 - 42ms/epoch - 4ms/step\n",
      "Epoch 24/100\n",
      "10/10 - 0s - loss: 1.7890 - val_loss: 1.6098 - 50ms/epoch - 5ms/step\n",
      "Epoch 25/100\n",
      "10/10 - 0s - loss: 2.0043 - val_loss: 1.6038 - 69ms/epoch - 7ms/step\n",
      "Epoch 26/100\n",
      "10/10 - 0s - loss: 1.8645 - val_loss: 1.6017 - 43ms/epoch - 4ms/step\n",
      "Epoch 27/100\n",
      "10/10 - 0s - loss: 1.8152 - val_loss: 1.5957 - 54ms/epoch - 5ms/step\n",
      "Epoch 28/100\n",
      "10/10 - 0s - loss: 1.7314 - val_loss: 1.5901 - 43ms/epoch - 4ms/step\n",
      "Epoch 29/100\n",
      "10/10 - 0s - loss: 1.5968 - val_loss: 1.5821 - 46ms/epoch - 5ms/step\n",
      "Epoch 30/100\n",
      "10/10 - 0s - loss: 2.0780 - val_loss: 1.5686 - 44ms/epoch - 4ms/step\n",
      "Epoch 31/100\n",
      "10/10 - 0s - loss: 1.8686 - val_loss: 1.5562 - 45ms/epoch - 4ms/step\n",
      "Epoch 32/100\n",
      "10/10 - 0s - loss: 1.8803 - val_loss: 1.5494 - 44ms/epoch - 4ms/step\n",
      "Epoch 33/100\n",
      "10/10 - 0s - loss: 1.7245 - val_loss: 1.5424 - 36ms/epoch - 4ms/step\n",
      "Epoch 34/100\n",
      "10/10 - 0s - loss: 1.7479 - val_loss: 1.5320 - 42ms/epoch - 4ms/step\n",
      "Epoch 35/100\n",
      "10/10 - 0s - loss: 1.7077 - val_loss: 1.5317 - 47ms/epoch - 5ms/step\n",
      "Epoch 36/100\n",
      "10/10 - 0s - loss: 1.7330 - val_loss: 1.5185 - 51ms/epoch - 5ms/step\n",
      "Epoch 37/100\n",
      "10/10 - 0s - loss: 1.6887 - val_loss: 1.5116 - 43ms/epoch - 4ms/step\n",
      "Epoch 38/100\n",
      "10/10 - 0s - loss: 1.9505 - val_loss: 1.4933 - 48ms/epoch - 5ms/step\n",
      "Epoch 39/100\n",
      "10/10 - 0s - loss: 1.6301 - val_loss: 1.4827 - 54ms/epoch - 5ms/step\n",
      "Epoch 40/100\n",
      "10/10 - 0s - loss: 1.7733 - val_loss: 1.4829 - 47ms/epoch - 5ms/step\n",
      "Epoch 41/100\n",
      "10/10 - 0s - loss: 1.6373 - val_loss: 1.4762 - 51ms/epoch - 5ms/step\n",
      "Epoch 42/100\n",
      "10/10 - 0s - loss: 1.8260 - val_loss: 1.4689 - 43ms/epoch - 4ms/step\n",
      "Epoch 43/100\n",
      "10/10 - 0s - loss: 1.7198 - val_loss: 1.4638 - 44ms/epoch - 4ms/step\n",
      "Epoch 44/100\n",
      "10/10 - 0s - loss: 1.6490 - val_loss: 1.4654 - 43ms/epoch - 4ms/step\n",
      "Epoch 45/100\n",
      "10/10 - 0s - loss: 1.7978 - val_loss: 1.4572 - 59ms/epoch - 6ms/step\n",
      "Epoch 46/100\n",
      "10/10 - 0s - loss: 1.7482 - val_loss: 1.4520 - 50ms/epoch - 5ms/step\n",
      "Epoch 47/100\n",
      "10/10 - 0s - loss: 1.7541 - val_loss: 1.4541 - 49ms/epoch - 5ms/step\n",
      "Epoch 48/100\n",
      "10/10 - 0s - loss: 1.7313 - val_loss: 1.4498 - 91ms/epoch - 9ms/step\n",
      "Epoch 49/100\n",
      "10/10 - 0s - loss: 1.6139 - val_loss: 1.4475 - 54ms/epoch - 5ms/step\n",
      "Epoch 50/100\n",
      "10/10 - 0s - loss: 1.6886 - val_loss: 1.4449 - 36ms/epoch - 4ms/step\n",
      "Epoch 51/100\n",
      "10/10 - 0s - loss: 1.6578 - val_loss: 1.4387 - 50ms/epoch - 5ms/step\n",
      "Epoch 52/100\n",
      "10/10 - 0s - loss: 1.5112 - val_loss: 1.4348 - 41ms/epoch - 4ms/step\n",
      "Epoch 53/100\n",
      "10/10 - 0s - loss: 1.5082 - val_loss: 1.4339 - 55ms/epoch - 6ms/step\n",
      "Epoch 54/100\n",
      "10/10 - 0s - loss: 1.6041 - val_loss: 1.4305 - 44ms/epoch - 4ms/step\n",
      "Epoch 55/100\n",
      "10/10 - 0s - loss: 1.8088 - val_loss: 1.4235 - 48ms/epoch - 5ms/step\n",
      "Epoch 56/100\n",
      "10/10 - 0s - loss: 1.5984 - val_loss: 1.4261 - 54ms/epoch - 5ms/step\n",
      "Epoch 57/100\n",
      "10/10 - 0s - loss: 1.6031 - val_loss: 1.4325 - 42ms/epoch - 4ms/step\n",
      "Epoch 58/100\n",
      "10/10 - 0s - loss: 1.6053 - val_loss: 1.4364 - 43ms/epoch - 4ms/step\n",
      "Epoch 59/100\n",
      "10/10 - 0s - loss: 1.5566 - val_loss: 1.4433 - 43ms/epoch - 4ms/step\n",
      "Epoch 60/100\n",
      "10/10 - 0s - loss: 1.5749 - val_loss: 1.4507 - 51ms/epoch - 5ms/step\n",
      "Epoch 61/100\n",
      "10/10 - 0s - loss: 1.6138 - val_loss: 1.4415 - 42ms/epoch - 4ms/step\n",
      "Epoch 62/100\n",
      "10/10 - 0s - loss: 1.5694 - val_loss: 1.4377 - 49ms/epoch - 5ms/step\n",
      "Epoch 63/100\n",
      "10/10 - 0s - loss: 1.6338 - val_loss: 1.4244 - 41ms/epoch - 4ms/step\n",
      "Epoch 64/100\n",
      "10/10 - 0s - loss: 1.5786 - val_loss: 1.4185 - 41ms/epoch - 4ms/step\n",
      "Epoch 65/100\n",
      "10/10 - 0s - loss: 1.6340 - val_loss: 1.4155 - 51ms/epoch - 5ms/step\n",
      "Epoch 66/100\n",
      "10/10 - 0s - loss: 1.5098 - val_loss: 1.4128 - 40ms/epoch - 4ms/step\n",
      "Epoch 67/100\n",
      "10/10 - 0s - loss: 1.5652 - val_loss: 1.4168 - 57ms/epoch - 6ms/step\n",
      "Epoch 68/100\n",
      "10/10 - 0s - loss: 1.5623 - val_loss: 1.4226 - 49ms/epoch - 5ms/step\n",
      "Epoch 69/100\n",
      "10/10 - 0s - loss: 1.6186 - val_loss: 1.4189 - 50ms/epoch - 5ms/step\n",
      "Epoch 70/100\n",
      "10/10 - 0s - loss: 1.6128 - val_loss: 1.4202 - 53ms/epoch - 5ms/step\n",
      "Epoch 71/100\n",
      "10/10 - 0s - loss: 1.6167 - val_loss: 1.4156 - 46ms/epoch - 5ms/step\n",
      "Epoch 72/100\n",
      "10/10 - 0s - loss: 1.5199 - val_loss: 1.4176 - 71ms/epoch - 7ms/step\n",
      "Epoch 73/100\n",
      "10/10 - 0s - loss: 1.5256 - val_loss: 1.4248 - 43ms/epoch - 4ms/step\n",
      "Epoch 74/100\n",
      "10/10 - 0s - loss: 1.5025 - val_loss: 1.4277 - 42ms/epoch - 4ms/step\n",
      "Epoch 75/100\n",
      "10/10 - 0s - loss: 1.7930 - val_loss: 1.4275 - 36ms/epoch - 4ms/step\n",
      "Epoch 76/100\n",
      "10/10 - 0s - loss: 1.6336 - val_loss: 1.4329 - 40ms/epoch - 4ms/step\n",
      "Epoch 77/100\n",
      "10/10 - 0s - loss: 1.5146 - val_loss: 1.4288 - 42ms/epoch - 4ms/step\n",
      "Epoch 78/100\n",
      "10/10 - 0s - loss: 1.6562 - val_loss: 1.4276 - 37ms/epoch - 4ms/step\n",
      "Epoch 79/100\n",
      "10/10 - 0s - loss: 1.6212 - val_loss: 1.4293 - 66ms/epoch - 7ms/step\n",
      "Epoch 80/100\n",
      "10/10 - 0s - loss: 1.4707 - val_loss: 1.4239 - 50ms/epoch - 5ms/step\n",
      "Epoch 81/100\n",
      "10/10 - 0s - loss: 1.6171 - val_loss: 1.4276 - 46ms/epoch - 5ms/step\n",
      "Epoch 82/100\n",
      "10/10 - 0s - loss: 1.5678 - val_loss: 1.4222 - 50ms/epoch - 5ms/step\n",
      "Epoch 83/100\n",
      "10/10 - 0s - loss: 1.5952 - val_loss: 1.4113 - 47ms/epoch - 5ms/step\n",
      "Epoch 84/100\n",
      "10/10 - 0s - loss: 1.4129 - val_loss: 1.4125 - 39ms/epoch - 4ms/step\n",
      "Epoch 85/100\n",
      "10/10 - 0s - loss: 1.6626 - val_loss: 1.4081 - 51ms/epoch - 5ms/step\n",
      "Epoch 86/100\n",
      "10/10 - 0s - loss: 1.5923 - val_loss: 1.4034 - 74ms/epoch - 7ms/step\n",
      "Epoch 87/100\n",
      "10/10 - 0s - loss: 1.5076 - val_loss: 1.4042 - 62ms/epoch - 6ms/step\n",
      "Epoch 88/100\n",
      "10/10 - 0s - loss: 1.6050 - val_loss: 1.4066 - 39ms/epoch - 4ms/step\n",
      "Epoch 89/100\n",
      "10/10 - 0s - loss: 1.4571 - val_loss: 1.4124 - 48ms/epoch - 5ms/step\n",
      "Epoch 90/100\n",
      "10/10 - 0s - loss: 1.5493 - val_loss: 1.4085 - 34ms/epoch - 3ms/step\n",
      "Epoch 91/100\n",
      "10/10 - 0s - loss: 1.5342 - val_loss: 1.4089 - 50ms/epoch - 5ms/step\n",
      "Epoch 92/100\n",
      "10/10 - 0s - loss: 1.5116 - val_loss: 1.3947 - 41ms/epoch - 4ms/step\n",
      "Epoch 93/100\n",
      "10/10 - 0s - loss: 1.5863 - val_loss: 1.3923 - 40ms/epoch - 4ms/step\n",
      "Epoch 94/100\n",
      "10/10 - 0s - loss: 1.5255 - val_loss: 1.3965 - 40ms/epoch - 4ms/step\n",
      "Epoch 95/100\n",
      "10/10 - 0s - loss: 1.5632 - val_loss: 1.3959 - 42ms/epoch - 4ms/step\n",
      "Epoch 96/100\n",
      "10/10 - 0s - loss: 1.6042 - val_loss: 1.4077 - 39ms/epoch - 4ms/step\n",
      "Epoch 97/100\n",
      "10/10 - 0s - loss: 1.4458 - val_loss: 1.4115 - 43ms/epoch - 4ms/step\n",
      "Epoch 98/100\n",
      "10/10 - 0s - loss: 1.5069 - val_loss: 1.4088 - 43ms/epoch - 4ms/step\n",
      "Epoch 99/100\n",
      "10/10 - 0s - loss: 1.5354 - val_loss: 1.4103 - 43ms/epoch - 4ms/step\n",
      "Epoch 100/100\n",
      "10/10 - 0s - loss: 1.4430 - val_loss: 1.4032 - 46ms/epoch - 5ms/step\n"
     ]
    },
    {
     "data": {
      "text/plain": [
       "<keras.src.callbacks.History at 0x1d936a42c50>"
      ]
     },
     "execution_count": 79,
     "metadata": {},
     "output_type": "execute_result"
    }
   ],
   "source": [
    "model.fit(x_train, y_train, epochs=100, batch_size=32, validation_data=(x_test, y_test), verbose=2)\n"
   ]
  },
  {
   "cell_type": "code",
   "execution_count": 81,
   "metadata": {},
   "outputs": [
    {
     "name": "stdout",
     "output_type": "stream",
     "text": [
      "3/3 [==============================] - 0s 0s/step\n",
      "10/10 [==============================] - 0s 266us/step\n"
     ]
    }
   ],
   "source": [
    "y_pred = model.predict(x_test)\n",
    "y_pred_train = model.predict(x_train)\n"
   ]
  },
  {
   "cell_type": "code",
   "execution_count": 82,
   "metadata": {},
   "outputs": [
    {
     "name": "stdout",
     "output_type": "stream",
     "text": [
      "10/10 [==============================] - 0s 3ms/step - loss: 1.4925\n",
      "10/10 [==============================] - 0s 207us/step\n",
      "R^2 train Score: 0.20532062592931932\n",
      "R^2 test Score: 0.13027050358023695\n",
      "Mean Squared Error: 1.3540024442158725\n",
      "Root Mean Squared Error: 1.1636161068908735\n",
      "Mean Absolute Error: 0.9638657135911891\n"
     ]
    }
   ],
   "source": [
    "from sklearn.metrics import mean_absolute_error, mean_squared_error, r2_score\n",
    "mse = mean_squared_error(y_test, y_pred)\n",
    "rmse = np.sqrt(mse)\n",
    "mae = mean_absolute_error(y_test, y_pred)\n",
    "r2_test = r2_score(y_test, y_pred)\n",
    "\n",
    "model.fit(x_train, y_train)\n",
    "y_pred_train = model.predict(x_train)\n",
    "r2_train = r2_score(y_train, y_pred_train)\n",
    "\n",
    "print(\"R^2 train Score:\", r2_train)\n",
    "print(\"R^2 test Score:\", r2_test)\n",
    "print(\"Mean Squared Error:\", mse)\n",
    "print(\"Root Mean Squared Error:\", rmse)\n",
    "print(\"Mean Absolute Error:\", mae)\n",
    "\n"
   ]
  }
 ],
 "metadata": {
  "kernelspec": {
   "display_name": "Python 3",
   "language": "python",
   "name": "python3"
  },
  "language_info": {
   "codemirror_mode": {
    "name": "ipython",
    "version": 3
   },
   "file_extension": ".py",
   "mimetype": "text/x-python",
   "name": "python",
   "nbconvert_exporter": "python",
   "pygments_lexer": "ipython3",
   "version": "3.11.4"
  }
 },
 "nbformat": 4,
 "nbformat_minor": 2
}
