{
 "cells": [
  {
   "cell_type": "code",
   "execution_count": 1,
   "metadata": {},
   "outputs": [],
   "source": [
    "import numpy as np\n",
    "import pandas as pd\n",
    "from sklearn.model_selection import train_test_split\n",
    "from sklearn.tree import DecisionTreeRegressor\n",
    "from sklearn.datasets import make_regression"
   ]
  },
  {
   "cell_type": "code",
   "execution_count": 3,
   "metadata": {},
   "outputs": [
    {
     "name": "stdout",
     "output_type": "stream",
     "text": [
      "<class 'pandas.core.frame.DataFrame'>\n",
      "RangeIndex: 348 entries, 0 to 347\n",
      "Data columns (total 5 columns):\n",
      " #   Column     Non-Null Count  Dtype  \n",
      "---  ------     --------------  -----  \n",
      " 0   1.66173    348 non-null    float64\n",
      " 1   0.0472535  348 non-null    float64\n",
      " 2   36.0       348 non-null    float64\n",
      " 3   189.4      348 non-null    float64\n",
      " 4   0.0368     348 non-null    float64\n",
      "dtypes: float64(5)\n",
      "memory usage: 13.7 KB\n"
     ]
    }
   ],
   "source": [
    "data = pd.read_csv(r\"C:\\Users\\mohammad\\Desktop\\cleaned_data_custom.csv\")\n",
    "data.info()"
   ]
  },
  {
   "cell_type": "code",
   "execution_count": 4,
   "metadata": {},
   "outputs": [
    {
     "name": "stdout",
     "output_type": "stream",
     "text": [
      "<class 'pandas.core.frame.DataFrame'>\n",
      "RangeIndex: 348 entries, 0 to 347\n",
      "Data columns (total 5 columns):\n",
      " #   Column     Non-Null Count  Dtype  \n",
      "---  ------     --------------  -----  \n",
      " 0   1.66173    348 non-null    float64\n",
      " 1   0.0472535  348 non-null    float64\n",
      " 2   36.0       348 non-null    float64\n",
      " 3   189.4      348 non-null    float64\n",
      " 4   0.0368     348 non-null    float64\n",
      "dtypes: float64(5)\n",
      "memory usage: 13.7 KB\n"
     ]
    }
   ],
   "source": [
    "df = data.iloc[:, 0:5]\n",
    "df.info()"
   ]
  },
  {
   "cell_type": "code",
   "execution_count": 5,
   "metadata": {},
   "outputs": [],
   "source": [
    "x= df.iloc[:, 0:4]\n",
    "y= df.iloc[:,-1]\n"
   ]
  },
  {
   "cell_type": "code",
   "execution_count": 6,
   "metadata": {},
   "outputs": [
    {
     "name": "stdout",
     "output_type": "stream",
     "text": [
      "Cross-validation scores: [-0.50803091 -0.9301062  -1.04220468 -0.97189626 -2.19399379 -0.80520581\n",
      " -1.05053721 -0.62253221 -0.1784258  -0.14207152]\n"
     ]
    }
   ],
   "source": [
    "#Dividing the data into two parts, training and testing\n",
    "x_train, x_test , y_train , y_test = train_test_split(x, y, test_size=0.3, random_state=42)\n",
    "np.random.seed(18)\n",
    "\n",
    "dt_model = DecisionTreeRegressor()\n",
    "dt_model.fit(x_train, y_train)\n",
    "\n",
    "from sklearn.model_selection import train_test_split, cross_val_score\n",
    "cv_scores = cross_val_score(dt_model, x_train, y_train, cv=10)\n",
    "print('Cross-validation scores:', cv_scores)\n",
    "\n"
   ]
  },
  {
   "cell_type": "code",
   "execution_count": 7,
   "metadata": {},
   "outputs": [],
   "source": [
    "y_pred = dt_model.predict(x_test)"
   ]
  },
  {
   "cell_type": "code",
   "execution_count": 9,
   "metadata": {},
   "outputs": [
    {
     "name": "stdout",
     "output_type": "stream",
     "text": [
      "R^2 train Score: 1.0\n",
      "R^2 test Score: -0.4061107414414331\n",
      "Mean Squared Error: 2.318637263238095\n",
      "Root Mean Squared Error: 1.5227072152052394\n",
      "Mean Absolute Error: 1.178062857142857\n"
     ]
    }
   ],
   "source": [
    "\n",
    "from sklearn.metrics import mean_absolute_error, mean_squared_error, r2_score\n",
    "\n",
    "mse = mean_squared_error(y_test, y_pred)\n",
    "rmse = np.sqrt(mse)\n",
    "mae = mean_absolute_error(y_test, y_pred)\n",
    "r2_test = r2_score(y_test, y_pred)\n",
    "\n",
    "dt_model.fit(x_train, y_train)\n",
    "y_pred_train = dt_model.predict(x_train)\n",
    "r2_train = r2_score(y_train, y_pred_train)\n",
    "\n",
    "print(\"R^2 train Score:\", r2_train)\n",
    "print(\"R^2 test Score:\", r2_test)\n",
    "print(\"Mean Squared Error:\", mse)\n",
    "print(\"Root Mean Squared Error:\", rmse)\n",
    "print(\"Mean Absolute Error:\", mae)\n"
   ]
  }
 ],
 "metadata": {
  "kernelspec": {
   "display_name": "Python 3",
   "language": "python",
   "name": "python3"
  },
  "language_info": {
   "codemirror_mode": {
    "name": "ipython",
    "version": 3
   },
   "file_extension": ".py",
   "mimetype": "text/x-python",
   "name": "python",
   "nbconvert_exporter": "python",
   "pygments_lexer": "ipython3",
   "version": "3.11.4"
  }
 },
 "nbformat": 4,
 "nbformat_minor": 2
}
